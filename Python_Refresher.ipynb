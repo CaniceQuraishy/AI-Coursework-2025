{
 "cells": [
  {
   "cell_type": "markdown",
   "id": "34e84042",
   "metadata": {},
   "source": [
    "**Name:** Canice Musa Quraishy \n",
    "**Student ID:** 166324  \n",
    "**Unit:** BBT 3201  \n",
    "**Date:** 05/09/2025 "
   ]
  },
  {
   "cell_type": "code",
   "execution_count": null,
   "id": "4fc2f468",
   "metadata": {},
   "outputs": [
    {
     "name": "stdout",
     "output_type": "stream",
     "text": [
      "7 days = 604800 seconds\n"
     ]
    }
   ],
   "source": [
    "# Q1: Converting days into seconds\n",
    "\n",
    "days = int(input(\"Enter number of days: \"))\n",
    "seconds = days * 24 * 60 * 60\n",
    "print(f\"{days} days = {seconds} seconds\")"
   ]
  },
  {
   "cell_type": "code",
   "execution_count": 2,
   "id": "49fece9a",
   "metadata": {},
   "outputs": [
    {
     "name": "stdout",
     "output_type": "stream",
     "text": [
      "Volume of sphere with radius 7.0 = 1436.76\n"
     ]
    }
   ],
   "source": [
    "# Q2: Calculating the volume of a sphere\n",
    "\n",
    "import math\n",
    "\n",
    "radius = float(input(\"Enter radius of the sphere: \"))\n",
    "volume = (4/3) * math.pi * (radius ** 3)\n",
    "print(f\"Volume of sphere with radius {radius} = {volume:.2f}\")"
   ]
  },
  {
   "cell_type": "code",
   "execution_count": null,
   "id": "9fb32d45",
   "metadata": {},
   "outputs": [
    {
     "ename": "ValueError",
     "evalue": "could not convert string to float: ''",
     "output_type": "error",
     "traceback": [
      "\u001b[31m---------------------------------------------------------------------------\u001b[39m",
      "\u001b[31mValueError\u001b[39m                                Traceback (most recent call last)",
      "\u001b[36mCell\u001b[39m\u001b[36m \u001b[39m\u001b[32mIn[3]\u001b[39m\u001b[32m, line 9\u001b[39m\n\u001b[32m      6\u001b[39m \u001b[38;5;28;01mdef\u001b[39;00m\u001b[38;5;250m \u001b[39m\u001b[34msquare_perimeter\u001b[39m(side):\n\u001b[32m      7\u001b[39m     \u001b[38;5;28;01mreturn\u001b[39;00m \u001b[32m4\u001b[39m * side\n\u001b[32m----> \u001b[39m\u001b[32m9\u001b[39m side = \u001b[38;5;28;43mfloat\u001b[39;49m\u001b[43m(\u001b[49m\u001b[38;5;28;43minput\u001b[39;49m\u001b[43m(\u001b[49m\u001b[33;43m\"\u001b[39;49m\u001b[33;43mEnter side length of the square: \u001b[39;49m\u001b[33;43m\"\u001b[39;49m\u001b[43m)\u001b[49m\u001b[43m)\u001b[49m\n\u001b[32m     10\u001b[39m \u001b[38;5;28mprint\u001b[39m(\u001b[33mf\u001b[39m\u001b[33m\"\u001b[39m\u001b[33mArea = \u001b[39m\u001b[38;5;132;01m{\u001b[39;00msquare_area(side)\u001b[38;5;132;01m}\u001b[39;00m\u001b[33m\"\u001b[39m)\n\u001b[32m     11\u001b[39m \u001b[38;5;28mprint\u001b[39m(\u001b[33mf\u001b[39m\u001b[33m\"\u001b[39m\u001b[33mPerimeter = \u001b[39m\u001b[38;5;132;01m{\u001b[39;00msquare_perimeter(side)\u001b[38;5;132;01m}\u001b[39;00m\u001b[33m\"\u001b[39m)\n",
      "\u001b[31mValueError\u001b[39m: could not convert string to float: ''"
     ]
    }
   ],
   "source": [
    "# Q3: Functions to calculate area and perimeter of a square\n",
    "\n",
    "def square_area(side):\n",
    "    return side * side\n",
    "\n",
    "def square_perimeter(side):\n",
    "    return 4 * side\n",
    "\n",
    "side = float(input(\"Enter side length of the square: \"))\n",
    "print(f\"Area = {square_area(side)}\")\n",
    "print(f\"Perimeter = {square_perimeter(side)}\")\n"
   ]
  }
 ],
 "metadata": {
  "kernelspec": {
   "display_name": "Python 3",
   "language": "python",
   "name": "python3"
  },
  "language_info": {
   "codemirror_mode": {
    "name": "ipython",
    "version": 3
   },
   "file_extension": ".py",
   "mimetype": "text/x-python",
   "name": "python",
   "nbconvert_exporter": "python",
   "pygments_lexer": "ipython3",
   "version": "3.13.0"
  }
 },
 "nbformat": 4,
 "nbformat_minor": 5
}
