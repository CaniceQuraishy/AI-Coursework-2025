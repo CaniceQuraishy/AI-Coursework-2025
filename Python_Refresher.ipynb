{
 "cells": [
  {
   "cell_type": "markdown",
   "id": "34e84042",
   "metadata": {},
   "source": [
    "**Name:** Canice Musa Quraishy \n",
    "**Student ID:** 166324  \n",
    "**Unit:** BBT 3201  \n",
    "**Date:** 05/09/2025 "
   ]
  },
  {
   "cell_type": "code",
   "execution_count": null,
   "id": "4fc2f468",
   "metadata": {},
   "outputs": [
    {
     "name": "stdout",
     "output_type": "stream",
     "text": [
      "7 days = 604800 seconds\n"
     ]
    }
   ],
   "source": [
    "# Q1: Converting days into seconds\n",
    "\n",
    "days = int(input(\"Enter number of days: \"))\n",
    "seconds = days * 24 * 60 * 60\n",
    "print(f\"{days} days = {seconds} seconds\")"
   ]
  },
  {
   "cell_type": "code",
   "execution_count": 2,
   "id": "49fece9a",
   "metadata": {},
   "outputs": [
    {
     "name": "stdout",
     "output_type": "stream",
     "text": [
      "Volume of sphere with radius 7.0 = 1436.76\n"
     ]
    }
   ],
   "source": [
    "# Q2: Calculating the volume of a sphere\n",
    "\n",
    "import math\n",
    "\n",
    "radius = float(input(\"Enter radius of the sphere: \"))\n",
    "volume = (4/3) * math.pi * (radius ** 3)\n",
    "print(f\"Volume of sphere with radius {radius} = {volume:.2f}\")"
   ]
  },
  {
   "cell_type": "code",
   "execution_count": 4,
   "id": "9fb32d45",
   "metadata": {},
   "outputs": [
    {
     "name": "stdout",
     "output_type": "stream",
     "text": [
      "Area = 25.0\n",
      "Perimeter = 20.0\n"
     ]
    }
   ],
   "source": [
    "# Q3: Functions to calculate area and perimeter of a square\n",
    "\n",
    "def square_area(side):\n",
    "    return side * side\n",
    "\n",
    "def square_perimeter(side):\n",
    "    return 4 * side\n",
    "\n",
    "side = float(input(\"Enter side length of the square: \"))\n",
    "print(f\"Area = {square_area(side)}\")\n",
    "print(f\"Perimeter = {square_perimeter(side)}\")\n"
   ]
  },
  {
   "cell_type": "code",
   "execution_count": 6,
   "id": "2c1f7142",
   "metadata": {},
   "outputs": [
    {
     "name": "stdout",
     "output_type": "stream",
     "text": [
      "A is uppercase\n"
     ]
    }
   ],
   "source": [
    "# Q4: Function to check if character is uppercase or lowercase\n",
    "\n",
    "def check_case(ch):\n",
    "    if len(ch) != 1:\n",
    "        return \"Please enter only one character\"\n",
    "    if ch.isupper():\n",
    "        return f\"{ch} is uppercase\"\n",
    "    elif ch.islower():\n",
    "        return f\"{ch} is lowercase\"\n",
    "    else:\n",
    "        return f\"{ch} is not a letter\"\n",
    "\n",
    "char = input(\"Enter a single character: \")\n",
    "print(check_case(char))\n"
   ]
  },
  {
   "cell_type": "code",
   "execution_count": 7,
   "id": "b4cfd1ad",
   "metadata": {},
   "outputs": [
    {
     "name": "stdout",
     "output_type": "stream",
     "text": [
      "Final value of x = 1.0416666666666665\n"
     ]
    }
   ],
   "source": [
    "# Q5: Translate pseudocode into Python\n",
    "\n",
    "x = 0\n",
    "y = 20\n",
    "\n",
    "while True:\n",
    "    y = y - 4\n",
    "    x = x + (2 / y)\n",
    "    if y < 6:\n",
    "        break\n",
    "\n",
    "print(\"Final value of x =\", x)"
   ]
  },
  {
   "cell_type": "code",
   "execution_count": 8,
   "id": "ebd08f92",
   "metadata": {},
   "outputs": [
    {
     "name": "stdout",
     "output_type": "stream",
     "text": [
      "Average of the 5 numbers = 5.0\n"
     ]
    }
   ],
   "source": [
    "# Q6: List average from 5 user inputs\n",
    "\n",
    "numbers = []\n",
    "for i in range(5):\n",
    "    num = float(input(f\"Enter number {i+1}: \"))\n",
    "    numbers.append(num)\n",
    "\n",
    "average = sum(numbers) / len(numbers)\n",
    "print(f\"Average of the 5 numbers = {average}\")\n"
   ]
  }
 ],
 "metadata": {
  "kernelspec": {
   "display_name": "Python 3",
   "language": "python",
   "name": "python3"
  },
  "language_info": {
   "codemirror_mode": {
    "name": "ipython",
    "version": 3
   },
   "file_extension": ".py",
   "mimetype": "text/x-python",
   "name": "python",
   "nbconvert_exporter": "python",
   "pygments_lexer": "ipython3",
   "version": "3.13.0"
  }
 },
 "nbformat": 4,
 "nbformat_minor": 5
}
