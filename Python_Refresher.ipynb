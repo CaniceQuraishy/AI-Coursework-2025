{
 "cells": [
  {
   "cell_type": "markdown",
   "id": "34e84042",
   "metadata": {},
   "source": [
    "**Name:** Canice Musa Quraishy \n",
    "**Student ID:** 166324  \n",
    "**Unit:** BBT 3201  \n",
    "**Date:** 05/09/2025 "
   ]
  }
 ],
 "metadata": {
  "language_info": {
   "name": "python"
  }
 },
 "nbformat": 4,
 "nbformat_minor": 5
}
