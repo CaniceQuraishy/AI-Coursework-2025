{
 "cells": [
  {
   "cell_type": "markdown",
   "id": "34e84042",
   "metadata": {},
   "source": [
    "**Name:** Canice Musa Quraishy \n",
    "**Student ID:** 166324  \n",
    "**Unit:** BBT 3201  \n",
    "**Date:** 05/09/2025 "
   ]
  },
  {
   "cell_type": "code",
   "execution_count": null,
   "id": "4fc2f468",
   "metadata": {},
   "outputs": [
    {
     "name": "stdout",
     "output_type": "stream",
     "text": [
      "7 days = 604800 seconds\n"
     ]
    }
   ],
   "source": [
    "# Q1: Converting days into seconds\n",
    "\n",
    "days = int(input(\"Enter number of days: \"))\n",
    "seconds = days * 24 * 60 * 60\n",
    "print(f\"{days} days = {seconds} seconds\")"
   ]
  },
  {
   "cell_type": "code",
   "execution_count": 2,
   "id": "49fece9a",
   "metadata": {},
   "outputs": [
    {
     "name": "stdout",
     "output_type": "stream",
     "text": [
      "Volume of sphere with radius 7.0 = 1436.76\n"
     ]
    }
   ],
   "source": [
    "# Q2: Calculating the volume of a sphere\n",
    "\n",
    "import math\n",
    "\n",
    "radius = float(input(\"Enter radius of the sphere: \"))\n",
    "volume = (4/3) * math.pi * (radius ** 3)\n",
    "print(f\"Volume of sphere with radius {radius} = {volume:.2f}\")"
   ]
  }
 ],
 "metadata": {
  "kernelspec": {
   "display_name": "Python 3",
   "language": "python",
   "name": "python3"
  },
  "language_info": {
   "codemirror_mode": {
    "name": "ipython",
    "version": 3
   },
   "file_extension": ".py",
   "mimetype": "text/x-python",
   "name": "python",
   "nbconvert_exporter": "python",
   "pygments_lexer": "ipython3",
   "version": "3.13.0"
  }
 },
 "nbformat": 4,
 "nbformat_minor": 5
}
